{
 "cells": [
  {
   "cell_type": "markdown",
   "metadata": {},
   "source": [
    "# WebSockets \n",
    "\n",
    "- We use WebSockets when we need real-time, two-way communication between a client (usually browser) and a server. Unlike traditional HTTP requests (which are one-way: client requests → server responds), WebSockets allow both the client and server to send messages to each other anytime, over a single, long-lived connection.\n",
    "\n",
    "- Why WebSockets Are Used:\n",
    "\n",
    "    - Real-Time Updates \n",
    "        - Ideal for applications like chat apps, live notifications, collaborative tools, stock tickers, multiplayer games. \n",
    "        - Server can push data to the client instantly (no need to poll).\n",
    "    \n",
    "    - Low Latency\n",
    "        - No need to establish a new connection for every request (as in HTTP).\n",
    "        - Reduces overhead and response times.\n",
    "    \n",
    "    - Two-Way Communication\n",
    "        - Both client and server can send and receive data anytime.\n",
    "        - Enables features like live typing indicators, real-time syncing, and feedback loops.\n",
    "    \n",
    "    - Efficient Data Exchange\n",
    "        - Uses a lightweight protocol compared to HTTP.\n",
    "        - Lower bandwidth usage since headers are smaller and persistent.\n",
    "    \n",
    "    - Persistent Connection\n",
    "        - Once established, the connection stays open (until closed).\n",
    "        - Avoids repeated handshakes of HTTP.\n",
    "\n",
    "- When Not to Use WebSockets\n",
    "    - For simple APIs or CRUD operations, use regular HTTP (REST or GraphQL).\n",
    "    - For SEO-heavy content where search engine crawling is needed.\n",
    "    - If the server doesn’t support persistent connections well."
   ]
  },
  {
   "cell_type": "markdown",
   "metadata": {},
   "source": [
    "- You are connecting to a WebSocket server (wss://ws.gomarket-cpp.goquant.io/ws/l2-orderbook/okx/BTC-USDT-SWAP).\n",
    "\n",
    "- The connection is managed asynchronously using async with, ensuring the WebSocket connection opens and closes cleanly.\n",
    "\n",
    "- You are entering an infinite loop (while True) that continuously receives messages (msg = await websocket.recv()) from the server, and the loop continues running indefinitely. (here we just doing for 5 sec)"
   ]
  },
  {
   "cell_type": "markdown",
   "metadata": {},
   "source": [
    "# WebSocket Client for Orderbook Data"
   ]
  },
  {
   "cell_type": "code",
   "execution_count": null,
   "metadata": {},
   "outputs": [],
   "source": [
    "import websockets\n",
    "import asyncio\n",
    "import json"
   ]
  },
  {
   "cell_type": "code",
   "execution_count": 24,
   "metadata": {},
   "outputs": [
    {
     "data": {
      "text/plain": [
       "{'bids': [['103919.2', '756.21'],\n",
       "  ['103919.1', '21.02'],\n",
       "  ['103918.9', '0.13'],\n",
       "  ['103918.4', '69.26'],\n",
       "  ['103918', '4.59'],\n",
       "  ['103917.1', '41.3'],\n",
       "  ['103916.7', '41.4'],\n",
       "  ['103916', '4.59'],\n",
       "  ['103915', '0.01'],\n",
       "  ['103914.7', '0.1'],\n",
       "  ['103914.3', '0.62'],\n",
       "  ['103914.1', '116'],\n",
       "  ['103914', '4.59'],\n",
       "  ['103913.1', '40.5'],\n",
       "  ['103912.2', '52.19'],\n",
       "  ['103912.1', '243.46'],\n",
       "  ['103912', '123.2'],\n",
       "  ['103911.7', '0.23'],\n",
       "  ['103911.5', '0.02'],\n",
       "  ['103911.4', '0.09'],\n",
       "  ['103911.3', '33.75'],\n",
       "  ['103910.9', '0.16'],\n",
       "  ['103910.4', '0.49'],\n",
       "  ['103910.3', '41.3'],\n",
       "  ['103910.2', '0.09'],\n",
       "  ['103910', '4.71'],\n",
       "  ['103909.5', '0.01'],\n",
       "  ['103909.4', '12'],\n",
       "  ['103909.3', '137.28'],\n",
       "  ['103909.2', '71.33'],\n",
       "  ['103909.1', '21.9'],\n",
       "  ['103908.9', '0.08'],\n",
       "  ['103908.8', '0.03'],\n",
       "  ['103908.5', '1.22'],\n",
       "  ['103908.2', '0.01'],\n",
       "  ['103908.1', '0.1'],\n",
       "  ['103908', '4.82'],\n",
       "  ['103907.9', '1.6'],\n",
       "  ['103907.8', '39.05'],\n",
       "  ['103907.1', '36.56'],\n",
       "  ['103906.9', '1.09'],\n",
       "  ['103906.8', '7.41'],\n",
       "  ['103906.7', '38.53'],\n",
       "  ['103906.6', '7.41'],\n",
       "  ['103906.5', '245.36'],\n",
       "  ['103906.4', '39.22'],\n",
       "  ['103906.2', '0.96'],\n",
       "  ['103906.1', '4.05'],\n",
       "  ['103905.9', '189.27'],\n",
       "  ['103905.8', '147.98']],\n",
       " 'asks': [['103919.3', '1135.04'],\n",
       "  ['103919.4', '18.39'],\n",
       "  ['103919.5', '28.78'],\n",
       "  ['103919.9', '57.61'],\n",
       "  ['103920', '4.61'],\n",
       "  ['103922', '1.5'],\n",
       "  ['103923.4', '1'],\n",
       "  ['103924', '4.59'],\n",
       "  ['103924.3', '7.3'],\n",
       "  ['103924.5', '78.3'],\n",
       "  ['103924.8', '0.01'],\n",
       "  ['103925', '0.01'],\n",
       "  ['103925.2', '0.03'],\n",
       "  ['103925.3', '0.36'],\n",
       "  ['103925.5', '100'],\n",
       "  ['103925.6', '2.42'],\n",
       "  ['103925.9', '1'],\n",
       "  ['103926', '4.59'],\n",
       "  ['103926.1', '0.01'],\n",
       "  ['103926.5', '2.05'],\n",
       "  ['103927.1', '0.09'],\n",
       "  ['103927.2', '0.05'],\n",
       "  ['103927.7', '3.7'],\n",
       "  ['103928', '2.25'],\n",
       "  ['103928.1', '0.04'],\n",
       "  ['103928.5', '38.7'],\n",
       "  ['103928.9', '19'],\n",
       "  ['103929', '32.88'],\n",
       "  ['103929.5', '47.42'],\n",
       "  ['103929.6', '115.55'],\n",
       "  ['103929.7', '78.3'],\n",
       "  ['103929.8', '16.9'],\n",
       "  ['103930', '0.51'],\n",
       "  ['103930.1', '18.59'],\n",
       "  ['103930.2', '10.89'],\n",
       "  ['103930.4', '0.01'],\n",
       "  ['103930.6', '186.43'],\n",
       "  ['103930.7', '2'],\n",
       "  ['103931', '2.05'],\n",
       "  ['103931.1', '0.08'],\n",
       "  ['103931.4', '0.48'],\n",
       "  ['103931.6', '1.5'],\n",
       "  ['103931.8', '8'],\n",
       "  ['103932', '4.6'],\n",
       "  ['103932.2', '6.41'],\n",
       "  ['103932.3', '0.96'],\n",
       "  ['103932.4', '2.93'],\n",
       "  ['103932.5', '4.05'],\n",
       "  ['103932.6', '2.4'],\n",
       "  ['103932.7', '6']]}"
      ]
     },
     "execution_count": 24,
     "metadata": {},
     "output_type": "execute_result"
    }
   ],
   "source": [
    "\n",
    "orderbook_data = {'bids': [], 'asks': []}\n",
    "\n",
    "async def fetch_orderbook_for_5s():\n",
    "    url = \"wss://ws.gomarket-cpp.goquant.io/ws/l2-orderbook/okx/BTC-USDT-SWAP\" \n",
    "    try:\n",
    "        async with websockets.connect(url) as websocket:\n",
    "            start = asyncio.get_event_loop().time()\n",
    "            while asyncio.get_event_loop().time() - start < 5:  # run for 5 seconds\n",
    "                msg = await websocket.recv()\n",
    "                data = json.loads(msg)\n",
    "                if 'bids' in data and 'asks' in data:\n",
    "                    orderbook_data['bids'] = data['bids']\n",
    "                    orderbook_data['asks'] = data['asks']\n",
    "                    top_bid = orderbook_data['bids'][0] if orderbook_data['bids'] else None\n",
    "                    top_ask = orderbook_data['asks'][0] if orderbook_data['asks'] else None\n",
    "                    # print(f\"Top Bid: {top_bid} | Top Ask: {top_ask}\")\n",
    "                await asyncio.sleep(0.1)\n",
    "\n",
    "    except Exception as e:\n",
    "        print(f\"Error: {e}\")\n",
    "\n",
    "\n",
    "# asyncio.run(fetch_orderbook_for_5s()) if script\n",
    "# asyncio.run() tries to create a new event loop, but there’s already one running (e.g., Jupyter always has one).\n",
    "\n",
    "await fetch_orderbook_for_5s()\n",
    "orderbook_data"
   ]
  },
  {
   "cell_type": "markdown",
   "metadata": {},
   "source": [
    "# Concepts \n",
    "\n",
    "- Volatility \n",
    "    - Volatility refers to the degree of variation in the price of an asset over time. The more volatile an asset is, the larger the price fluctuations will be within a short time period.\n",
    "\n",
    "    - How Volatility Affects Slippage:\n",
    "        - High volatility means the price is moving quickly and unpredictably. If you place an order in a volatile market, the price could change significantly before your order is executed.\n",
    "\n",
    "        - Low volatility means the price is relatively stable and doesn't change as rapidly, which generally leads to lower slippage.\n",
    "        \n",
    "        - Example: Suppose you're trading Bitcoin (BTC). If the price of Bitcoin is moving rapidly between $30,000 and $31,000 in a short time, and you place a market order, your order might be filled at $31,200 due to the price movement during the execution process, causing slippage.\n",
    "        On the other hand, in a low volatility market, the price might move only by $100 during the execution, and you might end up buying at $30,100 instead of $30,000, resulting in less slippage.\n",
    "\n",
    "    - Volatility is often measured using metrics like Standard Deviation \n",
    "\n",
    "    - Reasons can be :\n",
    "       \n",
    "       - Breaking News : Sudden spikes/drops.\n",
    "\n",
    "       - Low Liquidity : Price gaps\n",
    "       \n",
    "       - Large Orders : Price impact\n",
    "\n",
    "    \n",
    "- Liquidity \n",
    "\n",
    "    - Liquidity refers to how easily an asset can be bought or sold without causing a significant price change. It is determined by the depth of the order book (how many buy/sell orders are available) and the spread between the bid and ask prices.\n",
    "\n",
    "    - How Liquidity Affects Slippage:\n",
    "        \n",
    "        - High liquidity means there are many orders at various price levels, which allows you to execute large trades without significantly affecting the price. In this case, slippage will be minimal.\n",
    "\n",
    "        - Low liquidity means there are fewer orders available, and the price could shift drastically if a large trade is executed. This leads to higher slippage.\n",
    "\n",
    "        - Example:  Suppose you're trading a highly liquid stock like Apple (AAPL). There are many orders at various price levels on both the buy and sell sides of the order book. If you place a market order to buy a large amount of stock, the price may only increase slightly, say by $0.05 due to the large number of available orders at various levels. Thus, the slippage is minimal.\n",
    "\n",
    "        - However, if you're trading a low liquidity asset, such as a small-cap stock or a cryptocurrency with fewer market participants, a large order could push the price higher as there are not enough buy orders at the initial price. This would result in higher slippage. For example, a trade could cause the price to move $1.00 or more from the expected price.\n",
    "    \n",
    "    - Liquidity can be measured by:\n",
    "        \n",
    "        - Order book depth: The total volume of buy and sell orders available at various price levels.\n",
    "        \n",
    "        - Bid-ask spread: The difference between the highest bid (buy) and the lowest ask (sell) price. A larger spread indicates lower liquidity.\n",
    "\n",
    "- Slippage \n",
    "\n",
    "    - Slippage is the difference between the expected price of a trade and the actual price at which the trade is executed.\n",
    "\n",
    "    - Imagine you're at a market and see apples priced at ₹50/kg. You tell the shopkeeper, \"I’ll take 5 kg,\" but in the time it takes him to start packing, the price changes to ₹52/kg. You end up paying more than expected — this is slippage.\n",
    "\n",
    "    - You're trading a stock:\n",
    "        \n",
    "        - Expected Price: ₹100\n",
    "        \n",
    "        - Order Type: Market Order\n",
    "        \n",
    "        - Price When Order Hits Market: ₹102\n",
    "        \n",
    "        - Slippage = ₹102 - ₹100 = ₹2\n",
    "    \n",
    "    -  When is Slippage Most Likely?\n",
    "       \n",
    "       - Low liquidity : Not enough buyers/sellers at desired price.\n",
    "       \n",
    "       - High volatility\t: Prices move rapidly due to news/events.\n",
    "       \n",
    "       - Large orders : Your trade can't be filled at one price and spills into higher/lower prices.\n",
    "       \n",
    "       - Market orders : Executed instantly, regardless of price changes.\n",
    "    \n",
    "    - Slippage = (Trade size in USD) * (Volatility Factor) * (1 + 1 / Liquidity)"
   ]
  },
  {
   "cell_type": "markdown",
   "metadata": {},
   "source": [
    "# Model Implementation"
   ]
  },
  {
   "cell_type": "markdown",
   "metadata": {},
   "source": [
    "Almgren-Chriss market impact model\n",
    "\n",
    "- Purpose:\n",
    "  - The Almgren-Chriss market impact model is designed to estimate the impact of a trade on the market price based on the trade's size. Larger trades tend to move the market more. This model helps quantify the market price impact based on trade size, volatility, and other parameters.\n",
    "\n",
    "- If the trade size is 1000 USD, and the market impact formula calculates an impact of 0.5 USD, this means the price of the asset is expected to move by 0.5 USD due to the execution of the trade.\n",
    "- If the market price was $50,000 for one Bitcoin, the new price after the trade could become $50,000.50."
   ]
  },
  {
   "cell_type": "code",
   "execution_count": 25,
   "metadata": {},
   "outputs": [
    {
     "name": "stdout",
     "output_type": "stream",
     "text": [
      "101.0\n"
     ]
    }
   ],
   "source": [
    "def calculate_market_impact(trade_size_usd: float, alpha: float = 0.001, beta: float = 0.0001) -> float:  \n",
    "    \n",
    "    \"\"\"\n",
    "    Almgren-Chriss model to estimate market impact based on trade size.\n",
    "    Parameters : \n",
    "         trade_size_usd: The trade size in USD\n",
    "         alpha: Linear coefficient (default 0.001)\n",
    "         beta: Quadratic coefficient (default 0.0001)\n",
    "    Output : \n",
    "         The estimated market impact (how much price moves)\n",
    "    \"\"\"\n",
    "         \n",
    "    return alpha * trade_size_usd + beta * trade_size_usd**2\n",
    "\n",
    "impact = calculate_market_impact(1000)\n",
    "print(impact)\n",
    "\n"
   ]
  },
  {
   "cell_type": "markdown",
   "metadata": {},
   "source": [
    "Regression models for slippage estimation\n",
    "\n",
    "- Slippage refers to the difference between the expected price and the actual executed price of a trade.\n",
    "- It occurs due to volatility or lack of liquidity.\n",
    "-  We can estimate slippage using regression models based on features like trade size and market volatility."
   ]
  },
  {
   "cell_type": "code",
   "execution_count": 3,
   "metadata": {},
   "outputs": [],
   "source": [
    "\n",
    "import numpy as np\n",
    "from tensorflow.keras.models import Sequential\n",
    "from tensorflow.keras.layers import Dense\n",
    "from tensorflow.keras.optimizers import Adam"
   ]
  },
  {
   "cell_type": "code",
   "execution_count": 12,
   "metadata": {},
   "outputs": [],
   "source": [
    "class SlippageModel:\n",
    "\n",
    "    def __init__(self):\n",
    "\n",
    "        X = np.random.rand(1000,3) \n",
    "        trade_size = X[:,0]\n",
    "        volatility = X[:,1]\n",
    "        liquidity =  (1 - X[:, 2])  # lower liquidity -> higher slippage\n",
    "        noise = np.random.rand(1000) # noise to avoid overfitting to a perfect pattern\n",
    "        Y = trade_size * 0.01 + volatility * 0.02 +  liquidity*0.03 + noise*0.001\n",
    "\n",
    "        # In real case : we will be training the model on real data.\n",
    "\n",
    "        self.model = Sequential()\n",
    "        self.model.add(Dense(64, input_dim=3, activation='relu')) \n",
    "        self.model.add(Dense(32, activation='relu')) \n",
    "        self.model.add(Dense(1, activation='linear')) \n",
    "\n",
    "        self.model.compile(optimizer=Adam(), loss='mean_squared_error')\n",
    "        self.model.fit(X,Y, epochs=100, batch_size=10, verbose=0)\n",
    "        \n",
    "    def predict_slippage(self, trade_size_usd: float, volatility: float,liquidity : float) -> float:\n",
    "\n",
    "        X_input = np.array([[trade_size_usd, volatility,liquidity]])  \n",
    "        \n",
    "        return self.model.predict(X_input)[0][0]  "
   ]
  },
  {
   "cell_type": "code",
   "execution_count": 13,
   "metadata": {},
   "outputs": [
    {
     "name": "stderr",
     "output_type": "stream",
     "text": [
      "/Users/akashjain/Desktop/GoQuant_Simulator/GOquant/lib/python3.9/site-packages/keras/src/layers/core/dense.py:87: UserWarning: Do not pass an `input_shape`/`input_dim` argument to a layer. When using Sequential models, prefer using an `Input(shape)` object as the first layer in the model instead.\n",
      "  super().__init__(activity_regularizer=activity_regularizer, **kwargs)\n"
     ]
    },
    {
     "name": "stdout",
     "output_type": "stream",
     "text": [
      "\u001b[1m1/1\u001b[0m \u001b[32m━━━━━━━━━━━━━━━━━━━━\u001b[0m\u001b[37m\u001b[0m \u001b[1m0s\u001b[0m 27ms/step\n",
      "Predicted Slippage: 1.34266197681427\n"
     ]
    }
   ],
   "source": [
    "slippage_model = SlippageModel()\n",
    "\n",
    "predicted_slippage = slippage_model.predict_slippage(100, 0.5,0.2)\n",
    "print(f\"Predicted Slippage: {predicted_slippage}\")\n"
   ]
  },
  {
   "cell_type": "markdown",
   "metadata": {},
   "source": [
    "Maker/Taker proportion prediction\n",
    "\n",
    "- In a trading market, makers add liquidity by placing limit orders, and takers take liquidity by executing market orders. \n",
    "- The maker/taker proportion can be used to predict how much liquidity will be added or taken based on trade conditions like trade size and volatility.\n"
   ]
  },
  {
   "cell_type": "code",
   "execution_count": 7,
   "metadata": {},
   "outputs": [],
   "source": [
    "import numpy as np\n",
    "from tensorflow.keras.models import Sequential\n",
    "from tensorflow.keras.layers import Dense\n",
    "from tensorflow.keras.optimizers import Adam\n"
   ]
  },
  {
   "cell_type": "code",
   "execution_count": 16,
   "metadata": {},
   "outputs": [],
   "source": [
    "\n",
    "class MakerTakerModel:\n",
    "\n",
    "    def __init__(self):\n",
    "        \n",
    "        X = np.random.rand(1000,2)  # b/w 0 to 1\n",
    "        trade_size = X[:,0]  \n",
    "        volatility = X[:,1]\n",
    "        noise = np.random.rand(1000) # noise to avoid overfitting to a perfect pattern\n",
    "        Y = (1-trade_size) * 0.5 + (1 - volatility) * 0.3 + noise*0.1  # will be in range of 0 to 1\n",
    "        # maker proportion roughly inversely related to trade size & volatility\n",
    "        Y = np.clip(Y, 0, 1)  # ensure proportions are between 0 and 1\n",
    "\n",
    "        self.model = Sequential()\n",
    "        self.model.add(Dense(64, input_dim=2, activation='relu')) \n",
    "        self.model.add(Dense(32, activation='relu'))  \n",
    "        self.model.add(Dense(1, activation='sigmoid'))  \n",
    "\n",
    "        self.model.compile(optimizer=Adam(), loss='binary_crossentropy', metrics=['accuracy'])\n",
    "\n",
    "        self.model.fit(X,Y, epochs=100, batch_size=10, verbose=0)\n",
    "\n",
    "    def predict_maker_taker(self, trade_size_usd: float, volatility: float) -> float:\n",
    "\n",
    "        X_input = np.array([[trade_size_usd, volatility]]) \n",
    "        return self.model.predict(X_input)[0][0] "
   ]
  },
  {
   "cell_type": "code",
   "execution_count": 19,
   "metadata": {},
   "outputs": [
    {
     "name": "stdout",
     "output_type": "stream",
     "text": [
      "WARNING:tensorflow:6 out of the last 6 calls to <function TensorFlowTrainer.make_predict_function.<locals>.one_step_on_data_distributed at 0x153606ca0> triggered tf.function retracing. Tracing is expensive and the excessive number of tracings could be due to (1) creating @tf.function repeatedly in a loop, (2) passing tensors with different shapes, (3) passing Python objects instead of tensors. For (1), please define your @tf.function outside of the loop. For (2), @tf.function has reduce_retracing=True option that can avoid unnecessary retracing. For (3), please refer to https://www.tensorflow.org/guide/function#controlling_retracing and https://www.tensorflow.org/api_docs/python/tf/function for  more details.\n",
      "\u001b[1m1/1\u001b[0m \u001b[32m━━━━━━━━━━━━━━━━━━━━\u001b[0m\u001b[37m\u001b[0m \u001b[1m0s\u001b[0m 26ms/step\n",
      "Predicted Maker/Taker Proportion: 0.0\n"
     ]
    }
   ],
   "source": [
    "\n",
    "maker_taker_model = MakerTakerModel()\n",
    "\n",
    "predicted_proportion = maker_taker_model.predict_maker_taker(1000, 0.5)\n",
    "print(f\"Predicted Maker/Taker Proportion: {predicted_proportion}\")\n"
   ]
  },
  {
   "cell_type": "markdown",
   "metadata": {},
   "source": [
    "Why neural networks ?\n",
    "\n",
    "- Real-world financial data (like slippage or trading behavior) often has non-linear patterns.\n",
    "- Example: A small trade may have low slippage, but a large one could have disproportionately high slippage.\n",
    "- Neural networks are powerful at capturing such complex, non-linear mappings.\n",
    "- With enough data, neural networks can generalize better than basic models."
   ]
  },
  {
   "cell_type": "code",
   "execution_count": null,
   "metadata": {},
   "outputs": [],
   "source": []
  }
 ],
 "metadata": {
  "kernelspec": {
   "display_name": "GOquant",
   "language": "python",
   "name": "python3"
  },
  "language_info": {
   "codemirror_mode": {
    "name": "ipython",
    "version": 3
   },
   "file_extension": ".py",
   "mimetype": "text/x-python",
   "name": "python",
   "nbconvert_exporter": "python",
   "pygments_lexer": "ipython3",
   "version": "3.9.6"
  }
 },
 "nbformat": 4,
 "nbformat_minor": 2
}
